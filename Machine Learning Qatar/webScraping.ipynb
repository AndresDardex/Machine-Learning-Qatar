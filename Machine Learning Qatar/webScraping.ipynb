{
 "cells": [
  {
   "attachments": {},
   "cell_type": "markdown",
   "metadata": {},
   "source": [
    "1) Importo las librerias necesarias"
   ]
  },
  {
   "cell_type": "code",
   "execution_count": 1,
   "metadata": {},
   "outputs": [],
   "source": [
    "import pandas as pd\n",
    "from bs4 import BeautifulSoup\n",
    "import requests"
   ]
  },
  {
   "attachments": {},
   "cell_type": "markdown",
   "metadata": {},
   "source": [
    "2) voy a requerir los años en los que se hizo el mundial, para esto voy a usar un ciclo que me traiga todos los años desde 1930 (inicio del mundial) hasta el 2018 (ultimo mundial que nos interesa) y voy a eliminar los años 1942 y 1946 que son los otros años en los que no se llevo a cabo este evento."
   ]
  },
  {
   "cell_type": "code",
   "execution_count": 2,
   "metadata": {},
   "outputs": [],
   "source": [
    "años = []\n",
    "for i in range(1930,2019,4):\n",
    "    if i == 1942 or i == 1946:\n",
    "        continue\n",
    "    años.append(i)"
   ]
  },
  {
   "attachments": {},
   "cell_type": "markdown",
   "metadata": {},
   "source": [
    "3) luego voy a requerir la informacion de alguna pagina web, en este caso voy a usar wikipedia, de alli sacare los resultados de cada fase, todo esto lo hare con herramientas de web scraping como beautifulSoup."
   ]
  },
  {
   "attachments": {},
   "cell_type": "markdown",
   "metadata": {},
   "source": [
    "hay algo muy interesante y util a la hora de hacer este proyecto, y es que wikipedia posee toda la informacion de todos los mundiales de la misma manera que se va a ver acontinuacion, por lo que puedo hacer una funcion que me traiga año por año la informacion que necesito."
   ]
  },
  {
   "cell_type": "code",
   "execution_count": 3,
   "metadata": {},
   "outputs": [],
   "source": [
    "def get_partidos(años):\n",
    "    respuesta = requests.get(f'https://en.wikipedia.org/wiki/{años}_FIFA_World_Cup')\n",
    "    contenido = respuesta.text\n",
    "    soup = BeautifulSoup(contenido, 'lxml')\n",
    "    #voy a usar \"findAll\" ya que en el codigo html de la pagina, los datos que nos interesan estan en una clase, por lo que \n",
    "    # me interesa traer todos los datos que estan en esa clase y asi me ahorro el trabajo de hacerlo uno por uno.\n",
    "    matches = soup.findAll('div', class_='footballbox')\n",
    "    #ahora me interesa de matches sacar los datos de cada 'partido', pero solo me interesa el nombre de los equipos y el resultado, tambien si es visitante o local\n",
    "    #viendo el html y estos datos estan en el 'th' y en la clase 'fhome'(local) 'fscore'(resultado) y 'faway'(visitante)\n",
    "    local = []\n",
    "    resultado = []\n",
    "    visitante = []\n",
    "    for match in matches:\n",
    "        local.append(match.find('th', class_='fhome').get_text())\n",
    "        resultado.append(match.find('th', class_='fscore').get_text())\n",
    "        visitante.append(match.find('th', class_='faway').get_text())\n",
    "    partidos = {'local': local, 'resultado': resultado, 'visitante': visitante}\n",
    "    df_partidos = pd.DataFrame(partidos)\n",
    "    df_partidos['año'] = años\n",
    "    return df_partidos"
   ]
  },
  {
   "attachments": {},
   "cell_type": "markdown",
   "metadata": {},
   "source": [
    "una vez hecha la funcion, voy a ejecutarla con los años hechos en el paso 2, y voy a guardar la informacion en un dataframe, para luego exportarlo a un archivo csv."
   ]
  },
  {
   "cell_type": "code",
   "execution_count": 4,
   "metadata": {},
   "outputs": [],
   "source": [
    "mundiales = [get_partidos(año) for año in años]\n",
    "df_mundiales = pd.concat(mundiales, ignore_index=True)"
   ]
  },
  {
   "cell_type": "code",
   "execution_count": 5,
   "metadata": {},
   "outputs": [],
   "source": [
    "df_mundiales.to_csv('mundiales.csv', index=False)"
   ]
  },
  {
   "cell_type": "code",
   "execution_count": 6,
   "metadata": {},
   "outputs": [],
   "source": [
    "#tambien sacaremos los partidos del mundial pasado\n",
    "respuesta = requests.get(f'https://web.archive.org/web/20221113165455/https://en.wikipedia.org/wiki/2022_FIFA_World_Cup')\n",
    "contenido = respuesta.text\n",
    "soup = BeautifulSoup(contenido, 'lxml')\n",
    "matches = soup.findAll('div', class_='footballbox')\n",
    "local = []\n",
    "resultado = []\n",
    "visitante = []\n",
    "for match in matches:\n",
    "        local.append(match.find('th', class_='fhome').get_text())\n",
    "        resultado.append(match.find('th', class_='fscore').get_text())\n",
    "        visitante.append(match.find('th', class_='faway').get_text())\n",
    "partidos = {'local': local, 'resultado': resultado, 'visitante': visitante}\n",
    "df_mundialQatar = pd.DataFrame(partidos)\n",
    "df_mundialQatar['año'] = 2022\n",
    "    \n",
    "\n",
    "df_mundialQatar.to_csv('mundialQatar.csv', index=False)"
   ]
  },
  {
   "cell_type": "code",
   "execution_count": 26,
   "metadata": {},
   "outputs": [
    {
     "data": {
      "text/plain": [
       "1930    18\n",
       "1934    17\n",
       "1938    19\n",
       "1950    22\n",
       "1954    26\n",
       "1958    35\n",
       "1962    32\n",
       "1966    32\n",
       "1970    32\n",
       "1974    38\n",
       "1978    38\n",
       "1982    52\n",
       "1986    52\n",
       "1990    52\n",
       "1994    52\n",
       "1998    64\n",
       "2002    64\n",
       "2006    64\n",
       "2010    64\n",
       "2014    64\n",
       "2018    64\n",
       "Name: año, dtype: int64"
      ]
     },
     "execution_count": 26,
     "metadata": {},
     "output_type": "execute_result"
    }
   ],
   "source": [
    "df_mundiales['año'].value_counts().sort_index()"
   ]
  }
 ],
 "metadata": {
  "kernelspec": {
   "display_name": "Python 3",
   "language": "python",
   "name": "python3"
  },
  "language_info": {
   "codemirror_mode": {
    "name": "ipython",
    "version": 3
   },
   "file_extension": ".py",
   "mimetype": "text/x-python",
   "name": "python",
   "nbconvert_exporter": "python",
   "pygments_lexer": "ipython3",
   "version": "3.9.13"
  },
  "orig_nbformat": 4
 },
 "nbformat": 4,
 "nbformat_minor": 2
}
